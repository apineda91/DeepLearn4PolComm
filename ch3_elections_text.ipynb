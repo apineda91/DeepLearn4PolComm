{
 "cells": [
  {
   "cell_type": "code",
   "execution_count": 1,
   "metadata": {},
   "outputs": [
    {
     "name": "stderr",
     "output_type": "stream",
     "text": [
      "2023-01-20 00:39:38.734526: W tensorflow/stream_executor/platform/default/dso_loader.cc:64] Could not load dynamic library 'libcudart.so.11.0'; dlerror: libcudart.so.11.0: cannot open shared object file: No such file or directory; LD_LIBRARY_PATH: /opt/slurm/lib64:\n",
      "2023-01-20 00:39:38.734564: I tensorflow/stream_executor/cuda/cudart_stub.cc:29] Ignore above cudart dlerror if you do not have a GPU set up on your machine.\n"
     ]
    }
   ],
   "source": [
    "from __future__ import print_function\n",
    "import tensorflow as tf\n",
    "import numpy as np\n",
    "from sklearn.preprocessing import MinMaxScaler, OneHotEncoder\n",
    "\n",
    "from tensorflow.keras.optimizers import RMSprop\n",
    "\n",
    "from nltk import word_tokenize\n",
    "from nltk.stem.porter import PorterStemmer\n",
    "import nltk\n",
    "from nltk.corpus import stopwords\n",
    "import string\n",
    "import pandas as pd\n",
    "\n",
    "import os\n",
    "import sys\n",
    "from keras.preprocessing.text import Tokenizer\n",
    "\n",
    "from tensorflow.keras.preprocessing.sequence import pad_sequences\n",
    "import keras.utils as ku\n",
    "import keras.layers as kl\n",
    "from tensorflow.keras.layers import Dense, Input, GlobalMaxPooling1D, Concatenate\n",
    "from tensorflow.keras.layers import Conv1D, MaxPooling1D, Embedding\n",
    "from tensorflow.keras.models import Model\n",
    "from keras.initializers import Constant\n",
    "from tensorflow.keras.preprocessing.sequence import pad_sequences\n",
    "\n",
    "\n",
    "from tensorflow import keras\n",
    "from tensorflow.keras import layers\n",
    "from tensorflow.keras.models import Sequential, load_model\n",
    "\n",
    "#from keras.models import Sequential\n",
    "from tensorflow.keras.layers import Embedding, Activation, Dense, LSTM, Conv2D, Reshape, dot, Lambda, Dropout, MaxPooling2D\n",
    "from keras.optimizers import SGD\n",
    "from itertools import islice\n",
    "from tensorflow.keras.layers import Flatten\n",
    "from keras.models import model_from_json\n",
    "from keras_preprocessing.image import ImageDataGenerator\n",
    "from keras_preprocessing.sequence import TimeseriesGenerator\n",
    "\n",
    "\n",
    "from tensorflow.keras.preprocessing.image import load_img\n",
    "from tensorflow.keras.preprocessing.image import img_to_array\n",
    "import math\n",
    "import random\n",
    "from keras.callbacks import TensorBoard, ModelCheckpoint, LearningRateScheduler, EarlyStopping\n",
    "from datetime import *\n",
    "from tensorflow.keras import optimizers\n",
    "from keras.backend import int_shape\n",
    "pd.set_option('display.max_colwidth',25)\n",
    "from keras import backend as K\n",
    "#from tensorflow.keras.layers import concatenate\n",
    "#K.clear_session()\n",
    "\n",
    "from PIL import ImageFile\n",
    "ImageFile.LOAD_TRUNCATED_IMAGES = True\n",
    "\n",
    "import pathlib\n",
    "rando_seed = 1234\n",
    "np.random.seed(rando_seed)\n",
    "#os.chdir('/media/alex/easystore/ids_monthly/BLM_images/2014_11_12')\n",
    "from sklearn.metrics import confusion_matrix\n",
    "import matplotlib.pyplot as plt\n",
    "from sklearn.metrics import precision_recall_fscore_support\n",
    "from sklearn.metrics import classification_report"
   ]
  },
  {
   "cell_type": "code",
   "execution_count": 2,
   "metadata": {},
   "outputs": [],
   "source": [
    "#Evaluation of Model - Confusion Matrix Plot\n",
    "def plot_confusion_matrix(cm, classes,\n",
    "                          normalize=False,\n",
    "                          title='Confusion matrix',\n",
    "                          cmap=plt.cm.Blues):\n",
    "    \"\"\"\n",
    "    This function prints and plots the confusion matrix.\n",
    "    Normalization can be applied by setting `normalize=True`.\n",
    "    \"\"\"\n",
    "    if normalize:\n",
    "        cm = cm.astype('float') / cm.sum(axis=1)[:, np.newaxis]\n",
    "        print(\"Normalized confusion matrix\")\n",
    "    else:\n",
    "        print('Confusion matrix, without normalization')\n",
    "\n",
    "    print(cm)\n",
    "\n",
    "    plt.imshow(cm, interpolation='nearest', cmap=cmap)\n",
    "    plt.title(title)\n",
    "    plt.colorbar()\n",
    "    tick_marks = np.arange(len(classes))\n",
    "    plt.xticks(tick_marks, classes, rotation=45)\n",
    "    plt.yticks(tick_marks, classes)\n",
    "\n",
    "    fmt = '.2f' if normalize else 'd'\n",
    "    thresh = cm.max() / 2.\n",
    "    for i, j in itertools.product(range(cm.shape[0]), range(cm.shape[1])):\n",
    "        plt.text(j, i, format(cm[i, j], fmt),\n",
    "                 horizontalalignment=\"center\",\n",
    "                 color=\"white\" if cm[i, j] > thresh else \"black\")\n",
    "\n",
    "    plt.ylabel('True label')\n",
    "    plt.xlabel('Predicted label')\n",
    "    plt.tight_layout()"
   ]
  },
  {
   "cell_type": "code",
   "execution_count": 3,
   "metadata": {},
   "outputs": [
    {
     "data": {
      "text/html": [
       "<div>\n",
       "<style scoped>\n",
       "    .dataframe tbody tr th:only-of-type {\n",
       "        vertical-align: middle;\n",
       "    }\n",
       "\n",
       "    .dataframe tbody tr th {\n",
       "        vertical-align: top;\n",
       "    }\n",
       "\n",
       "    .dataframe thead th {\n",
       "        text-align: right;\n",
       "    }\n",
       "</style>\n",
       "<table border=\"1\" class=\"dataframe\">\n",
       "  <thead>\n",
       "    <tr style=\"text-align: right;\">\n",
       "      <th></th>\n",
       "      <th>doc_id</th>\n",
       "      <th>picfiles</th>\n",
       "      <th>label</th>\n",
       "      <th>text</th>\n",
       "      <th>placename</th>\n",
       "      <th>features</th>\n",
       "      <th>ctext</th>\n",
       "      <th>path</th>\n",
       "    </tr>\n",
       "  </thead>\n",
       "  <tbody>\n",
       "    <tr>\n",
       "      <th>0</th>\n",
       "      <td>782073868714246144</td>\n",
       "      <td>G8-PA5KA_400x400.jpg</td>\n",
       "      <td>0</td>\n",
       "      <td>Whew... We really got...</td>\n",
       "      <td>Wichita</td>\n",
       "      <td>whew ... we really go...</td>\n",
       "      <td>Whew... We really got...</td>\n",
       "      <td>/home/ajpineda/labim_...</td>\n",
       "    </tr>\n",
       "    <tr>\n",
       "      <th>1</th>\n",
       "      <td>782073940667662336</td>\n",
       "      <td>NMhckQKT_400x400.jpg</td>\n",
       "      <td>0</td>\n",
       "      <td>EVRRYBODY GO VOTE!!!!...</td>\n",
       "      <td>Douglasville</td>\n",
       "      <td>evrrybody go vote ! !...</td>\n",
       "      <td>EVRRYBODY GO VOTE!!!!...</td>\n",
       "      <td>/home/ajpineda/labim_...</td>\n",
       "    </tr>\n",
       "    <tr>\n",
       "      <th>2</th>\n",
       "      <td>782076821789564928</td>\n",
       "      <td>CtpUYoiUsAAv2-9.jpg</td>\n",
       "      <td>0</td>\n",
       "      <td>Young campaign organi...</td>\n",
       "      <td>Fort Collins</td>\n",
       "      <td>young campaign organi...</td>\n",
       "      <td>Young campaign organi...</td>\n",
       "      <td>/home/ajpineda/labim_...</td>\n",
       "    </tr>\n",
       "    <tr>\n",
       "      <th>3</th>\n",
       "      <td>782069425524486144</td>\n",
       "      <td>RsRIuF_8_400x400.jpeg</td>\n",
       "      <td>0</td>\n",
       "      <td>Interesting!!  @Vesse...</td>\n",
       "      <td>Castle Rock</td>\n",
       "      <td>interesting ! ! @ ves...</td>\n",
       "      <td>Interesting!!  @Vesse...</td>\n",
       "      <td>/home/ajpineda/labim_...</td>\n",
       "    </tr>\n",
       "    <tr>\n",
       "      <th>4</th>\n",
       "      <td>782080845171470336</td>\n",
       "      <td>ce1d0d2a1c28c4ac2c589...</td>\n",
       "      <td>0</td>\n",
       "      <td>One more day left be ...</td>\n",
       "      <td>Kansas</td>\n",
       "      <td>one more day left be ...</td>\n",
       "      <td>One more day left be ...</td>\n",
       "      <td>/home/ajpineda/labim_...</td>\n",
       "    </tr>\n",
       "  </tbody>\n",
       "</table>\n",
       "</div>"
      ],
      "text/plain": [
       "               doc_id                  picfiles label  \\\n",
       "0  782073868714246144      G8-PA5KA_400x400.jpg     0   \n",
       "1  782073940667662336      NMhckQKT_400x400.jpg     0   \n",
       "2  782076821789564928       CtpUYoiUsAAv2-9.jpg     0   \n",
       "3  782069425524486144     RsRIuF_8_400x400.jpeg     0   \n",
       "4  782080845171470336  ce1d0d2a1c28c4ac2c589...     0   \n",
       "\n",
       "                       text     placename                  features  \\\n",
       "0  Whew... We really got...       Wichita  whew ... we really go...   \n",
       "1  EVRRYBODY GO VOTE!!!!...  Douglasville  evrrybody go vote ! !...   \n",
       "2  Young campaign organi...  Fort Collins  young campaign organi...   \n",
       "3  Interesting!!  @Vesse...   Castle Rock  interesting ! ! @ ves...   \n",
       "4  One more day left be ...        Kansas  one more day left be ...   \n",
       "\n",
       "                      ctext                      path  \n",
       "0  Whew... We really got...  /home/ajpineda/labim_...  \n",
       "1  EVRRYBODY GO VOTE!!!!...  /home/ajpineda/labim_...  \n",
       "2  Young campaign organi...  /home/ajpineda/labim_...  \n",
       "3  Interesting!!  @Vesse...  /home/ajpineda/labim_...  \n",
       "4  One more day left be ...  /home/ajpineda/labim_...  "
      ]
     },
     "execution_count": 3,
     "metadata": {},
     "output_type": "execute_result"
    }
   ],
   "source": [
    "#cols = ['tweet_id', 'date', 'text', 'support', 'hashtags', 'users', 'urls', 'media_urls', 'nfollowers', 'nfriends', 'file_name', 'path']\n",
    "\n",
    "#DATA = pd.read_csv('./meta_image_dataset_2020.csv', dtype = {'doc_id':str, 'picfiles':str,'label':int})\n",
    "DATA = pd.read_csv('./elections_june21.csv', dtype = {'doc_id':str, 'picfiles':str,'label':str})\n",
    "DATA.head()"
   ]
  },
  {
   "cell_type": "code",
   "execution_count": 4,
   "metadata": {},
   "outputs": [
    {
     "data": {
      "text/plain": [
       "doc_id       object\n",
       "picfiles     object\n",
       "label        object\n",
       "text         object\n",
       "placename    object\n",
       "features     object\n",
       "ctext        object\n",
       "path         object\n",
       "dtype: object"
      ]
     },
     "execution_count": 4,
     "metadata": {},
     "output_type": "execute_result"
    }
   ],
   "source": [
    "DATA.dtypes"
   ]
  },
  {
   "cell_type": "code",
   "execution_count": 5,
   "metadata": {},
   "outputs": [
    {
     "data": {
      "text/plain": [
       "doc_id       object\n",
       "picfiles     object\n",
       "label        object\n",
       "text         object\n",
       "placename    object\n",
       "features     object\n",
       "ctext        object\n",
       "path         object\n",
       "dtype: object"
      ]
     },
     "execution_count": 5,
     "metadata": {},
     "output_type": "execute_result"
    }
   ],
   "source": [
    "DATA['label'] = DATA['label'].map(str)\n",
    "DATA.dtypes"
   ]
  },
  {
   "cell_type": "code",
   "execution_count": 6,
   "metadata": {},
   "outputs": [
    {
     "data": {
      "text/html": [
       "<div>\n",
       "<style scoped>\n",
       "    .dataframe tbody tr th:only-of-type {\n",
       "        vertical-align: middle;\n",
       "    }\n",
       "\n",
       "    .dataframe tbody tr th {\n",
       "        vertical-align: top;\n",
       "    }\n",
       "\n",
       "    .dataframe thead th {\n",
       "        text-align: right;\n",
       "    }\n",
       "</style>\n",
       "<table border=\"1\" class=\"dataframe\">\n",
       "  <thead>\n",
       "    <tr style=\"text-align: right;\">\n",
       "      <th></th>\n",
       "      <th>doc_id</th>\n",
       "      <th>picfiles</th>\n",
       "      <th>text</th>\n",
       "      <th>placename</th>\n",
       "      <th>features</th>\n",
       "      <th>ctext</th>\n",
       "      <th>path</th>\n",
       "    </tr>\n",
       "    <tr>\n",
       "      <th>label</th>\n",
       "      <th></th>\n",
       "      <th></th>\n",
       "      <th></th>\n",
       "      <th></th>\n",
       "      <th></th>\n",
       "      <th></th>\n",
       "      <th></th>\n",
       "    </tr>\n",
       "  </thead>\n",
       "  <tbody>\n",
       "    <tr>\n",
       "      <th>0</th>\n",
       "      <td>7441</td>\n",
       "      <td>7441</td>\n",
       "      <td>7441</td>\n",
       "      <td>7441</td>\n",
       "      <td>7441</td>\n",
       "      <td>7441</td>\n",
       "      <td>7441</td>\n",
       "    </tr>\n",
       "    <tr>\n",
       "      <th>1</th>\n",
       "      <td>1540</td>\n",
       "      <td>1540</td>\n",
       "      <td>1540</td>\n",
       "      <td>1540</td>\n",
       "      <td>1540</td>\n",
       "      <td>1540</td>\n",
       "      <td>1540</td>\n",
       "    </tr>\n",
       "  </tbody>\n",
       "</table>\n",
       "</div>"
      ],
      "text/plain": [
       "       doc_id  picfiles  text  placename  features  ctext  path\n",
       "label                                                          \n",
       "0        7441      7441  7441       7441      7441   7441  7441\n",
       "1        1540      1540  1540       1540      1540   1540  1540"
      ]
     },
     "execution_count": 6,
     "metadata": {},
     "output_type": "execute_result"
    }
   ],
   "source": [
    "DATA = DATA.dropna(subset=['label'])\n",
    "DATA.groupby('label').count()\n"
   ]
  },
  {
   "cell_type": "code",
   "execution_count": 7,
   "metadata": {},
   "outputs": [
    {
     "data": {
      "text/plain": [
       "8950"
      ]
     },
     "execution_count": 7,
     "metadata": {},
     "output_type": "execute_result"
    }
   ],
   "source": [
    "# must be divisible by batch size (50)\n",
    "\n",
    "remove_n = 31\n",
    "drop_indices = np.random.choice(DATA.index, remove_n, replace=False)\n",
    "DATA = DATA.drop(drop_indices)\n",
    "len(DATA)\n",
    "\n"
   ]
  },
  {
   "cell_type": "code",
   "execution_count": 8,
   "metadata": {},
   "outputs": [
    {
     "data": {
      "text/html": [
       "<div>\n",
       "<style scoped>\n",
       "    .dataframe tbody tr th:only-of-type {\n",
       "        vertical-align: middle;\n",
       "    }\n",
       "\n",
       "    .dataframe tbody tr th {\n",
       "        vertical-align: top;\n",
       "    }\n",
       "\n",
       "    .dataframe thead th {\n",
       "        text-align: right;\n",
       "    }\n",
       "</style>\n",
       "<table border=\"1\" class=\"dataframe\">\n",
       "  <thead>\n",
       "    <tr style=\"text-align: right;\">\n",
       "      <th></th>\n",
       "      <th>doc_id</th>\n",
       "      <th>picfiles</th>\n",
       "      <th>label</th>\n",
       "      <th>text</th>\n",
       "      <th>placename</th>\n",
       "      <th>features</th>\n",
       "      <th>ctext</th>\n",
       "      <th>path</th>\n",
       "    </tr>\n",
       "  </thead>\n",
       "  <tbody>\n",
       "    <tr>\n",
       "      <th>0</th>\n",
       "      <td>782073868714246144</td>\n",
       "      <td>G8-PA5KA_400x400.jpg</td>\n",
       "      <td>0</td>\n",
       "      <td>Whew... We really got...</td>\n",
       "      <td>Wichita</td>\n",
       "      <td>whew ... we really go...</td>\n",
       "      <td>Whew... We really got...</td>\n",
       "      <td>/home/ajpineda/labim_...</td>\n",
       "    </tr>\n",
       "    <tr>\n",
       "      <th>1</th>\n",
       "      <td>782073940667662336</td>\n",
       "      <td>NMhckQKT_400x400.jpg</td>\n",
       "      <td>0</td>\n",
       "      <td>EVRRYBODY GO VOTE!!!!...</td>\n",
       "      <td>Douglasville</td>\n",
       "      <td>evrrybody go vote ! !...</td>\n",
       "      <td>EVRRYBODY GO VOTE!!!!...</td>\n",
       "      <td>/home/ajpineda/labim_...</td>\n",
       "    </tr>\n",
       "    <tr>\n",
       "      <th>2</th>\n",
       "      <td>782076821789564928</td>\n",
       "      <td>CtpUYoiUsAAv2-9.jpg</td>\n",
       "      <td>0</td>\n",
       "      <td>Young campaign organi...</td>\n",
       "      <td>Fort Collins</td>\n",
       "      <td>young campaign organi...</td>\n",
       "      <td>Young campaign organi...</td>\n",
       "      <td>/home/ajpineda/labim_...</td>\n",
       "    </tr>\n",
       "    <tr>\n",
       "      <th>3</th>\n",
       "      <td>782069425524486144</td>\n",
       "      <td>RsRIuF_8_400x400.jpeg</td>\n",
       "      <td>0</td>\n",
       "      <td>Interesting!!  @Vesse...</td>\n",
       "      <td>Castle Rock</td>\n",
       "      <td>interesting ! ! @ ves...</td>\n",
       "      <td>Interesting!!  @Vesse...</td>\n",
       "      <td>/home/ajpineda/labim_...</td>\n",
       "    </tr>\n",
       "    <tr>\n",
       "      <th>4</th>\n",
       "      <td>782080845171470336</td>\n",
       "      <td>ce1d0d2a1c28c4ac2c589...</td>\n",
       "      <td>0</td>\n",
       "      <td>One more day left be ...</td>\n",
       "      <td>Kansas</td>\n",
       "      <td>one more day left be ...</td>\n",
       "      <td>One more day left be ...</td>\n",
       "      <td>/home/ajpineda/labim_...</td>\n",
       "    </tr>\n",
       "  </tbody>\n",
       "</table>\n",
       "</div>"
      ],
      "text/plain": [
       "               doc_id                  picfiles label  \\\n",
       "0  782073868714246144      G8-PA5KA_400x400.jpg     0   \n",
       "1  782073940667662336      NMhckQKT_400x400.jpg     0   \n",
       "2  782076821789564928       CtpUYoiUsAAv2-9.jpg     0   \n",
       "3  782069425524486144     RsRIuF_8_400x400.jpeg     0   \n",
       "4  782080845171470336  ce1d0d2a1c28c4ac2c589...     0   \n",
       "\n",
       "                       text     placename                  features  \\\n",
       "0  Whew... We really got...       Wichita  whew ... we really go...   \n",
       "1  EVRRYBODY GO VOTE!!!!...  Douglasville  evrrybody go vote ! !...   \n",
       "2  Young campaign organi...  Fort Collins  young campaign organi...   \n",
       "3  Interesting!!  @Vesse...   Castle Rock  interesting ! ! @ ves...   \n",
       "4  One more day left be ...        Kansas  one more day left be ...   \n",
       "\n",
       "                      ctext                      path  \n",
       "0  Whew... We really got...  /home/ajpineda/labim_...  \n",
       "1  EVRRYBODY GO VOTE!!!!...  /home/ajpineda/labim_...  \n",
       "2  Young campaign organi...  /home/ajpineda/labim_...  \n",
       "3  Interesting!!  @Vesse...  /home/ajpineda/labim_...  \n",
       "4  One more day left be ...  /home/ajpineda/labim_...  "
      ]
     },
     "execution_count": 8,
     "metadata": {},
     "output_type": "execute_result"
    }
   ],
   "source": [
    "DATA.head()"
   ]
  },
  {
   "cell_type": "code",
   "execution_count": 9,
   "metadata": {},
   "outputs": [
    {
     "data": {
      "text/html": [
       "<div>\n",
       "<style scoped>\n",
       "    .dataframe tbody tr th:only-of-type {\n",
       "        vertical-align: middle;\n",
       "    }\n",
       "\n",
       "    .dataframe tbody tr th {\n",
       "        vertical-align: top;\n",
       "    }\n",
       "\n",
       "    .dataframe thead th {\n",
       "        text-align: right;\n",
       "    }\n",
       "</style>\n",
       "<table border=\"1\" class=\"dataframe\">\n",
       "  <thead>\n",
       "    <tr style=\"text-align: right;\">\n",
       "      <th></th>\n",
       "      <th>doc_id</th>\n",
       "      <th>picfiles</th>\n",
       "      <th>label</th>\n",
       "      <th>text</th>\n",
       "      <th>placename</th>\n",
       "      <th>features</th>\n",
       "      <th>ctext</th>\n",
       "      <th>path</th>\n",
       "    </tr>\n",
       "  </thead>\n",
       "  <tbody>\n",
       "    <tr>\n",
       "      <th>0</th>\n",
       "      <td>792023316278149121</td>\n",
       "      <td>Cv3VARcWcAAK-8v.jpg</td>\n",
       "      <td>1</td>\n",
       "      <td>We're voting early! #...</td>\n",
       "      <td>Boston City Hall</td>\n",
       "      <td>we 're voting early !...</td>\n",
       "      <td>We're voting early! #...</td>\n",
       "      <td>/home/ajpineda/labim_...</td>\n",
       "    </tr>\n",
       "    <tr>\n",
       "      <th>1</th>\n",
       "      <td>793161035888721920</td>\n",
       "      <td>CwHfwREVIAA2RY9.jpg</td>\n",
       "      <td>0</td>\n",
       "      <td>@Jenny_Trout we will....</td>\n",
       "      <td>Los Angeles</td>\n",
       "      <td>@ jenny_trout we will...</td>\n",
       "      <td>@Jenny_Trout we will....</td>\n",
       "      <td>/home/ajpineda/labim_...</td>\n",
       "    </tr>\n",
       "    <tr>\n",
       "      <th>2</th>\n",
       "      <td>789634976090247169</td>\n",
       "      <td>CvUYzy2WEAQ41jk.jpg</td>\n",
       "      <td>1</td>\n",
       "      <td>They do know we don't...</td>\n",
       "      <td>San Francisco</td>\n",
       "      <td>they do know we do n'...</td>\n",
       "      <td>They do know we don't...</td>\n",
       "      <td>/home/ajpineda/labim_...</td>\n",
       "    </tr>\n",
       "    <tr>\n",
       "      <th>3</th>\n",
       "      <td>786754155738075138</td>\n",
       "      <td>KrZhjkpH_400x400.jpg</td>\n",
       "      <td>0</td>\n",
       "      <td>@HillaryClinton @HFA ...</td>\n",
       "      <td>Lynnwood</td>\n",
       "      <td>@ hillaryclinton @ hf...</td>\n",
       "      <td>@HillaryClinton @HFA ...</td>\n",
       "      <td>/home/ajpineda/labim_...</td>\n",
       "    </tr>\n",
       "    <tr>\n",
       "      <th>4</th>\n",
       "      <td>789418395041234944</td>\n",
       "      <td>WfFHBfrG_400x400.jpg</td>\n",
       "      <td>0</td>\n",
       "      <td>Wow! Going to miss th...</td>\n",
       "      <td>Virginia</td>\n",
       "      <td>wow ! going to miss t...</td>\n",
       "      <td>Wow! Going to miss th...</td>\n",
       "      <td>/home/ajpineda/labim_...</td>\n",
       "    </tr>\n",
       "  </tbody>\n",
       "</table>\n",
       "</div>"
      ],
      "text/plain": [
       "               doc_id              picfiles label                      text  \\\n",
       "0  792023316278149121   Cv3VARcWcAAK-8v.jpg     1  We're voting early! #...   \n",
       "1  793161035888721920   CwHfwREVIAA2RY9.jpg     0  @Jenny_Trout we will....   \n",
       "2  789634976090247169   CvUYzy2WEAQ41jk.jpg     1  They do know we don't...   \n",
       "3  786754155738075138  KrZhjkpH_400x400.jpg     0  @HillaryClinton @HFA ...   \n",
       "4  789418395041234944  WfFHBfrG_400x400.jpg     0  Wow! Going to miss th...   \n",
       "\n",
       "          placename                  features                     ctext  \\\n",
       "0  Boston City Hall  we 're voting early !...  We're voting early! #...   \n",
       "1       Los Angeles  @ jenny_trout we will...  @Jenny_Trout we will....   \n",
       "2     San Francisco  they do know we do n'...  They do know we don't...   \n",
       "3          Lynnwood  @ hillaryclinton @ hf...  @HillaryClinton @HFA ...   \n",
       "4          Virginia  wow ! going to miss t...  Wow! Going to miss th...   \n",
       "\n",
       "                       path  \n",
       "0  /home/ajpineda/labim_...  \n",
       "1  /home/ajpineda/labim_...  \n",
       "2  /home/ajpineda/labim_...  \n",
       "3  /home/ajpineda/labim_...  \n",
       "4  /home/ajpineda/labim_...  "
      ]
     },
     "execution_count": 9,
     "metadata": {},
     "output_type": "execute_result"
    }
   ],
   "source": [
    "#Shuffle data\n",
    "\n",
    "DATA = DATA.sample(frac=1, random_state=1234).reset_index(drop=True)\n",
    "DATA.head()"
   ]
  },
  {
   "cell_type": "code",
   "execution_count": 10,
   "metadata": {},
   "outputs": [
    {
     "data": {
      "text/plain": [
       "500"
      ]
     },
     "execution_count": 10,
     "metadata": {},
     "output_type": "execute_result"
    }
   ],
   "source": [
    "# Validation data: check for overfitting\n",
    "\n",
    "\n",
    "val_data = DATA.sample(n=500, replace=False, weights=None, random_state=1234, axis=None)\n",
    "\n",
    "# drop before sampling test data\n",
    "DATA = DATA.drop(val_data.index)\n",
    "\n",
    "\n",
    "# Test data: final model's prediction power\n",
    "test_data = DATA.sample(n=500, replace=False, weights=None, random_state=1234, axis=None)\n",
    "len(val_data)"
   ]
  },
  {
   "cell_type": "code",
   "execution_count": 11,
   "metadata": {},
   "outputs": [
    {
     "data": {
      "text/html": [
       "<div>\n",
       "<style scoped>\n",
       "    .dataframe tbody tr th:only-of-type {\n",
       "        vertical-align: middle;\n",
       "    }\n",
       "\n",
       "    .dataframe tbody tr th {\n",
       "        vertical-align: top;\n",
       "    }\n",
       "\n",
       "    .dataframe thead th {\n",
       "        text-align: right;\n",
       "    }\n",
       "</style>\n",
       "<table border=\"1\" class=\"dataframe\">\n",
       "  <thead>\n",
       "    <tr style=\"text-align: right;\">\n",
       "      <th></th>\n",
       "      <th>doc_id</th>\n",
       "      <th>picfiles</th>\n",
       "      <th>text</th>\n",
       "      <th>placename</th>\n",
       "      <th>features</th>\n",
       "      <th>ctext</th>\n",
       "      <th>path</th>\n",
       "    </tr>\n",
       "    <tr>\n",
       "      <th>label</th>\n",
       "      <th></th>\n",
       "      <th></th>\n",
       "      <th></th>\n",
       "      <th></th>\n",
       "      <th></th>\n",
       "      <th></th>\n",
       "      <th></th>\n",
       "    </tr>\n",
       "  </thead>\n",
       "  <tbody>\n",
       "    <tr>\n",
       "      <th>0</th>\n",
       "      <td>406</td>\n",
       "      <td>406</td>\n",
       "      <td>406</td>\n",
       "      <td>406</td>\n",
       "      <td>406</td>\n",
       "      <td>406</td>\n",
       "      <td>406</td>\n",
       "    </tr>\n",
       "    <tr>\n",
       "      <th>1</th>\n",
       "      <td>94</td>\n",
       "      <td>94</td>\n",
       "      <td>94</td>\n",
       "      <td>94</td>\n",
       "      <td>94</td>\n",
       "      <td>94</td>\n",
       "      <td>94</td>\n",
       "    </tr>\n",
       "  </tbody>\n",
       "</table>\n",
       "</div>"
      ],
      "text/plain": [
       "       doc_id  picfiles  text  placename  features  ctext  path\n",
       "label                                                          \n",
       "0         406       406   406        406       406    406   406\n",
       "1          94        94    94         94        94     94    94"
      ]
     },
     "execution_count": 11,
     "metadata": {},
     "output_type": "execute_result"
    }
   ],
   "source": [
    "test_data.groupby('label').count()"
   ]
  },
  {
   "cell_type": "code",
   "execution_count": 12,
   "metadata": {},
   "outputs": [
    {
     "data": {
      "text/plain": [
       "500"
      ]
     },
     "execution_count": 12,
     "metadata": {},
     "output_type": "execute_result"
    }
   ],
   "source": [
    "# Validation data used to check for overfitting\n",
    "\n",
    "val_data = DATA.sample(n=500, replace=False, weights=None, random_state=1234, axis=None)\n",
    "train_data = DATA.drop(val_data.index)\n",
    "len(val_data)"
   ]
  },
  {
   "cell_type": "code",
   "execution_count": 13,
   "metadata": {},
   "outputs": [
    {
     "data": {
      "text/html": [
       "<div>\n",
       "<style scoped>\n",
       "    .dataframe tbody tr th:only-of-type {\n",
       "        vertical-align: middle;\n",
       "    }\n",
       "\n",
       "    .dataframe tbody tr th {\n",
       "        vertical-align: top;\n",
       "    }\n",
       "\n",
       "    .dataframe thead th {\n",
       "        text-align: right;\n",
       "    }\n",
       "</style>\n",
       "<table border=\"1\" class=\"dataframe\">\n",
       "  <thead>\n",
       "    <tr style=\"text-align: right;\">\n",
       "      <th></th>\n",
       "      <th>doc_id</th>\n",
       "      <th>picfiles</th>\n",
       "      <th>text</th>\n",
       "      <th>placename</th>\n",
       "      <th>features</th>\n",
       "      <th>ctext</th>\n",
       "      <th>path</th>\n",
       "    </tr>\n",
       "    <tr>\n",
       "      <th>label</th>\n",
       "      <th></th>\n",
       "      <th></th>\n",
       "      <th></th>\n",
       "      <th></th>\n",
       "      <th></th>\n",
       "      <th></th>\n",
       "      <th></th>\n",
       "    </tr>\n",
       "  </thead>\n",
       "  <tbody>\n",
       "    <tr>\n",
       "      <th>0</th>\n",
       "      <td>6611</td>\n",
       "      <td>6611</td>\n",
       "      <td>6611</td>\n",
       "      <td>6611</td>\n",
       "      <td>6611</td>\n",
       "      <td>6611</td>\n",
       "      <td>6611</td>\n",
       "    </tr>\n",
       "    <tr>\n",
       "      <th>1</th>\n",
       "      <td>1339</td>\n",
       "      <td>1339</td>\n",
       "      <td>1339</td>\n",
       "      <td>1339</td>\n",
       "      <td>1339</td>\n",
       "      <td>1339</td>\n",
       "      <td>1339</td>\n",
       "    </tr>\n",
       "  </tbody>\n",
       "</table>\n",
       "</div>"
      ],
      "text/plain": [
       "       doc_id  picfiles  text  placename  features  ctext  path\n",
       "label                                                          \n",
       "0        6611      6611  6611       6611      6611   6611  6611\n",
       "1        1339      1339  1339       1339      1339   1339  1339"
      ]
     },
     "execution_count": 13,
     "metadata": {},
     "output_type": "execute_result"
    }
   ],
   "source": [
    "len(train_data)\n",
    "train_data.groupby('label').count()"
   ]
  },
  {
   "cell_type": "code",
   "execution_count": null,
   "metadata": {},
   "outputs": [],
   "source": [
    "#os.chdir('/media/alex/easystore/ids_monthly/BLM_images/apsa_sample3')"
   ]
  },
  {
   "cell_type": "code",
   "execution_count": 14,
   "metadata": {},
   "outputs": [
    {
     "data": {
      "text/html": [
       "<div>\n",
       "<style scoped>\n",
       "    .dataframe tbody tr th:only-of-type {\n",
       "        vertical-align: middle;\n",
       "    }\n",
       "\n",
       "    .dataframe tbody tr th {\n",
       "        vertical-align: top;\n",
       "    }\n",
       "\n",
       "    .dataframe thead th {\n",
       "        text-align: right;\n",
       "    }\n",
       "</style>\n",
       "<table border=\"1\" class=\"dataframe\">\n",
       "  <thead>\n",
       "    <tr style=\"text-align: right;\">\n",
       "      <th></th>\n",
       "      <th>features</th>\n",
       "      <th>label</th>\n",
       "    </tr>\n",
       "  </thead>\n",
       "  <tbody>\n",
       "    <tr>\n",
       "      <th>1543</th>\n",
       "      <td>trump and hillary are...</td>\n",
       "      <td>0</td>\n",
       "    </tr>\n",
       "    <tr>\n",
       "      <th>4303</th>\n",
       "      <td>huh ? early voting li...</td>\n",
       "      <td>1</td>\n",
       "    </tr>\n",
       "    <tr>\n",
       "      <th>1283</th>\n",
       "      <td>waiting to cast my vo...</td>\n",
       "      <td>1</td>\n",
       "    </tr>\n",
       "    <tr>\n",
       "      <th>2009</th>\n",
       "      <td>the guy recording is ...</td>\n",
       "      <td>0</td>\n",
       "    </tr>\n",
       "    <tr>\n",
       "      <th>3809</th>\n",
       "      <td>the rude lying govern...</td>\n",
       "      <td>0</td>\n",
       "    </tr>\n",
       "  </tbody>\n",
       "</table>\n",
       "</div>"
      ],
      "text/plain": [
       "                      features label\n",
       "1543  trump and hillary are...     0\n",
       "4303  huh ? early voting li...     1\n",
       "1283  waiting to cast my vo...     1\n",
       "2009  the guy recording is ...     0\n",
       "3809  the rude lying govern...     0"
      ]
     },
     "execution_count": 14,
     "metadata": {},
     "output_type": "execute_result"
    }
   ],
   "source": [
    "##############################################################\n",
    "###### TEXT PRE-PROCESSING ###############################\n",
    "\n",
    "\n",
    "# PARAMETERS\n",
    "#MAX_SEQUENCE_LENGTH = 30\n",
    "MAX_NUM_WORDS = 6000\n",
    "EMBEDDING_DIM = 100\n",
    "#VALIDATION_SPLIT = 0.2\n",
    "\n",
    "\n",
    "# SUBSET TO ONLY DATA AND LABELS\n",
    "train_data_text = train_data[['features','label']]\n",
    "train_labels_text = train_data['label'].values\n",
    "train_data_text.head()\n",
    "\n",
    "val_data_text = val_data[['features','label']]\n",
    "val_labels_text = val_data['label'].values\n",
    "val_data_text.head()\n",
    "\n",
    "test_data_text = test_data[['features','label']]\n",
    "test_labels_text = test_data['label'].values\n",
    "test_data_text.head()"
   ]
  },
  {
   "cell_type": "code",
   "execution_count": 15,
   "metadata": {},
   "outputs": [
    {
     "data": {
      "text/plain": [
       "500"
      ]
     },
     "execution_count": 15,
     "metadata": {},
     "output_type": "execute_result"
    }
   ],
   "source": [
    "len(val_labels_text)"
   ]
  },
  {
   "cell_type": "code",
   "execution_count": 16,
   "metadata": {},
   "outputs": [
    {
     "name": "stdout",
     "output_type": "stream",
     "text": [
      "Found 20180 unique tokens.\n",
      "Shape of train data tensor: (7950, 186)\n",
      "Shape of train label tensor: (7950, 2)\n",
      "Found 20180 unique val tokens.\n",
      "Found 20180 unique val tokens.\n"
     ]
    },
    {
     "data": {
      "text/plain": [
       "'Shape of test data tensor:'"
      ]
     },
     "metadata": {},
     "output_type": "display_data"
    },
    {
     "data": {
      "text/plain": [
       "(500, 88)"
      ]
     },
     "metadata": {},
     "output_type": "display_data"
    },
    {
     "data": {
      "text/plain": [
       "'Shape of test label tensor:'"
      ]
     },
     "metadata": {},
     "output_type": "display_data"
    },
    {
     "data": {
      "text/plain": [
       "(500, 2)"
      ]
     },
     "metadata": {},
     "output_type": "display_data"
    }
   ],
   "source": [
    "# tokenizers for training text data\n",
    "tokenizer = Tokenizer(num_words=MAX_NUM_WORDS, lower=True,split=' ')\n",
    "tokenizer.fit_on_texts(train_data_text['features'].values)\n",
    "sequences = tokenizer.texts_to_sequences(train_data_text['features'].values)\n",
    "\n",
    "word_index = tokenizer.word_index\n",
    "print('Found %s unique tokens.' % len(word_index))\n",
    "\n",
    "train_data_text = pad_sequences(sequences)\n",
    "train_labels_text = ku.to_categorical(np.asarray(train_labels_text))\n",
    "\n",
    "print('Shape of train data tensor:', train_data_text.shape)\n",
    "print('Shape of train label tensor:', train_labels_text.shape)\n",
    "\n",
    "\n",
    "##########################################################################\n",
    "# tokenizers for val text data\n",
    "\n",
    "\n",
    "#tokenizer = Tokenizer(num_words=MAX_NUM_WORDS, lower=True,split=' ')\n",
    "#tokenizer.fit_on_texts(val_data_text['text'].values)\n",
    "val_sequences = tokenizer.texts_to_sequences(val_data_text['features'].values)\n",
    "\n",
    "word_index = tokenizer.word_index\n",
    "print('Found %s unique val tokens.' % len(word_index))\n",
    "\n",
    "val_data_text = pad_sequences(val_sequences)\n",
    "val_labels_text = ku.to_categorical(np.asarray(val_labels_text))\n",
    "\n",
    "#print('Shape of val data tensor:', val_data_text.shape)\n",
    "#print('Shape of val label tensor:', val_labels_text.shape)\n",
    "\n",
    "##########################################################################\n",
    "# tokenizers for test text data\n",
    "\n",
    "\n",
    "#tokenizer = Tokenizer(num_words=MAX_NUM_WORDS, lower=True,split=' ')\n",
    "#tokenizer.fit_on_texts(val_data_text['text'].values)\n",
    "test_sequences = tokenizer.texts_to_sequences(test_data_text['features'].values)\n",
    "\n",
    "word_index = tokenizer.word_index\n",
    "print('Found %s unique val tokens.' % len(word_index))\n",
    "\n",
    "test_data_text = pad_sequences(test_sequences)\n",
    "test_labels_text = ku.to_categorical(np.asarray(test_labels_text))\n",
    "\n",
    "display('Shape of test data tensor:', test_data_text.shape)\n",
    "display('Shape of test label tensor:', test_labels_text.shape)"
   ]
  },
  {
   "cell_type": "code",
   "execution_count": 17,
   "metadata": {},
   "outputs": [
    {
     "name": "stdout",
     "output_type": "stream",
     "text": [
      "Shape of val data tensor: (500, 88)\n",
      "Shape of val label tensor: (500, 2)\n"
     ]
    }
   ],
   "source": [
    "print('Shape of val data tensor:', val_data_text.shape)\n",
    "print('Shape of val label tensor:', val_labels_text.shape)"
   ]
  },
  {
   "cell_type": "code",
   "execution_count": 18,
   "metadata": {},
   "outputs": [
    {
     "data": {
      "text/plain": [
       "array([[   0,    0,    0, ...,   16,   19, 2957],\n",
       "       [   0,    0,    0, ..., 1994,  271,  131],\n",
       "       [   0,    0,    0, ...,  644,   65,  183],\n",
       "       ...,\n",
       "       [   0,    0,    0, ...,    1,  214, 1482],\n",
       "       [   0,    0,    0, ...,   25,    8,   26],\n",
       "       [   0,    0,    0, ...,   15,  539,   35]], dtype=int32)"
      ]
     },
     "execution_count": 18,
     "metadata": {},
     "output_type": "execute_result"
    }
   ],
   "source": [
    "#print(word_index.keys())\n",
    "train_data_text"
   ]
  },
  {
   "cell_type": "code",
   "execution_count": 19,
   "metadata": {},
   "outputs": [
    {
     "name": "stdout",
     "output_type": "stream",
     "text": [
      "Number of training observations: 7950\n"
     ]
    }
   ],
   "source": [
    "trainsetsize = len(train_data)\n",
    "print('Number of training observations: ' + str(trainsetsize))"
   ]
  },
  {
   "cell_type": "code",
   "execution_count": 20,
   "metadata": {},
   "outputs": [
    {
     "name": "stdout",
     "output_type": "stream",
     "text": [
      "Number of val observations: 500\n"
     ]
    }
   ],
   "source": [
    "valsetsize = len(val_data)\n",
    "print('Number of val observations: ' + str(valsetsize))"
   ]
  },
  {
   "cell_type": "markdown",
   "metadata": {},
   "source": [
    "\n",
    "\"\"\"\n",
    "# Scaling Text Data\n",
    "\n",
    "from sklearn.preprocessing import StandardScaler\n",
    "\n",
    "dat_sets = [train_data_text, val_data_text, test_data_text]\n",
    "\n",
    "\n",
    "def scale_mydata(X_train):\n",
    "\n",
    "    scaler = StandardScaler().fit(X_train)\n",
    "    scaler\n",
    "    # out: StandardScaler()\n",
    "\n",
    "    print(scaler.mean_)\n",
    "\n",
    "    print(scaler.scale_)\n",
    "\n",
    "\n",
    "    X_scaled = scaler.transform(X_train)\n",
    "    return X_scaled\n",
    "\n",
    "\n",
    "for dat in dat_sets:\n",
    "    \n",
    "    \n",
    "    scale_mydata(dat)\n",
    "\n",
    "train_data_text2 = scale_mydata(train_data_text)\n",
    "val_data_text2 = scale_mydata(val_data_text)\n",
    "test_data_text2 = scale_mydata(test_data_text)\n",
    "\n",
    "\"\"\"\n"
   ]
  },
  {
   "cell_type": "code",
   "execution_count": 21,
   "metadata": {},
   "outputs": [
    {
     "name": "stdout",
     "output_type": "stream",
     "text": [
      "Loading embeddings.\n",
      "Loaded 400000 word vectors.\n"
     ]
    }
   ],
   "source": [
    "\n",
    "# Loading embeddings from Stanford NLP\n",
    "# Good rundown of source code: https://blog.keras.io/using-pre-trained-word-embeddings-in-a-keras-model.html\n",
    "\n",
    "# First, build index mapping words in the embeddings set\n",
    "# to their embedding vector\n",
    "\n",
    "# glove.twitter.27B.100d.txt\n",
    "# glove.6B.100d.txt\n",
    "\n",
    "print(\"Loading embeddings.\")\n",
    "\n",
    "embeddings_index = dict()\n",
    "#texts = []\n",
    "f = open('glove.6B.100d.txt', errors='ignore')\n",
    "for line in f:\n",
    "    values = line.split()\n",
    "    word = values[0]\n",
    "    coefs = np.asarray(values[1:], dtype='float32')\n",
    "    embeddings_index[word] = coefs\n",
    "#    texts.append(word)\n",
    "f.close()\n",
    "print('Loaded %s word vectors.' % len(embeddings_index))\n",
    "\n",
    "\n",
    "\n"
   ]
  },
  {
   "cell_type": "code",
   "execution_count": 22,
   "metadata": {},
   "outputs": [
    {
     "data": {
      "text/plain": [
       "('was',\n",
       " array([ 1.3717e-01, -5.4287e-01,  1.9419e-01, -2.9953e-01,  1.7545e-01,\n",
       "         8.4672e-02,  6.7752e-01,  9.8295e-02, -3.5611e-02,  2.1334e-01,\n",
       "         5.1663e-01,  2.0687e-01,  4.4082e-01, -3.3655e-01,  5.6025e-01,\n",
       "        -6.8790e-01,  5.1957e-01, -2.1258e-01, -5.2708e-01, -1.2249e-01,\n",
       "         3.3099e-01,  2.6448e-02,  5.9007e-01,  6.5469e-03,  4.5405e-01,\n",
       "        -3.3884e-01, -2.8261e-01, -2.4633e-01,  1.0847e-01,  3.1640e-01,\n",
       "        -1.5368e-01,  7.3503e-01,  1.1858e-01,  7.0842e-01,  7.5081e-02,\n",
       "         2.9738e-01, -1.1395e-01,  4.0807e-01, -4.2531e-02, -2.1301e-01,\n",
       "        -7.9849e-01, -1.2703e-01,  7.5200e-01, -4.1746e-01,  4.6615e-01,\n",
       "        -3.9097e-02,  6.5961e-01, -3.2336e-01,  4.4200e-01, -9.4137e-01,\n",
       "        -2.3125e-01, -3.0604e-01,  7.9912e-01,  1.4581e+00, -8.8199e-01,\n",
       "        -3.0041e+00, -7.5243e-01, -2.0503e-01,  1.1998e+00,  9.4881e-01,\n",
       "         3.0649e-01,  4.8411e-01, -7.5720e-01,  6.5856e-01,  7.0107e-01,\n",
       "        -9.3141e-01,  5.2928e-01,  2.3323e-01,  1.8857e-01,  3.8691e-01,\n",
       "         1.1489e-02, -3.1937e-01,  1.1858e-02,  2.2944e-01,  1.7764e-01,\n",
       "         1.6868e-01,  1.4003e-01,  5.8647e-01, -1.5447e+00, -6.4425e-02,\n",
       "        -6.4711e-04,  1.3606e-01, -3.2695e-01,  1.0043e-01, -1.5460e+00,\n",
       "        -5.4760e-01,  2.1027e-01, -6.7195e-01, -1.5970e-01, -6.8271e-01,\n",
       "        -2.2043e-01, -8.7088e-01, -1.6248e-01,  8.3086e-01, -2.3045e-01,\n",
       "         1.9864e-01, -5.1892e-02, -5.2057e-01,  2.5434e-01, -2.3759e-01],\n",
       "       dtype=float32))"
      ]
     },
     "execution_count": 22,
     "metadata": {},
     "output_type": "execute_result"
    }
   ],
   "source": [
    "list(embeddings_index.items())[15]"
   ]
  },
  {
   "cell_type": "code",
   "execution_count": 23,
   "metadata": {},
   "outputs": [
    {
     "name": "stdout",
     "output_type": "stream",
     "text": [
      "Preparing embedding matrix.\n"
     ]
    }
   ],
   "source": [
    "# At this point we can leverage our embedding_index dictionary and our word_index to compute our embedding matrix:\n",
    "\n",
    "\n",
    "print('Preparing embedding matrix.')\n",
    "\n",
    "# prepare embedding matrix\n",
    "num_words = min(MAX_NUM_WORDS, len(word_index)) + 1\n",
    "embedding_matrix = np.zeros((num_words, EMBEDDING_DIM))\n",
    "for word, i in word_index.items():\n",
    "    if i > MAX_NUM_WORDS:\n",
    "        continue\n",
    "    embedding_vector = embeddings_index.get(word)\n",
    "    if embedding_vector is not None:\n",
    "        # words not found in embedding index will be all-zeros.\n",
    "        embedding_matrix[i] = embedding_vector\n",
    "\n",
    "# load pre-trained word embeddings into an Embedding layer\n",
    "# note that we set trainable = False so as to keep the embeddings fixed\n",
    "embedding_layer = Embedding(num_words,\n",
    "                            EMBEDDING_DIM,\n",
    "                            embeddings_initializer=Constant(embedding_matrix),\n",
    "                            input_length=29,\n",
    "                            trainable=False)\n",
    "\n"
   ]
  },
  {
   "cell_type": "code",
   "execution_count": null,
   "metadata": {},
   "outputs": [],
   "source": [
    "#from tensorflow.keras.applications import inception_v3"
   ]
  },
  {
   "cell_type": "code",
   "execution_count": 24,
   "metadata": {},
   "outputs": [
    {
     "name": "stdout",
     "output_type": "stream",
     "text": [
      "Begin training...\n"
     ]
    },
    {
     "name": "stderr",
     "output_type": "stream",
     "text": [
      "2022-09-16 14:07:12.437785: W tensorflow/stream_executor/platform/default/dso_loader.cc:64] Could not load dynamic library 'libcuda.so.1'; dlerror: libcuda.so.1: cannot open shared object file: No such file or directory; LD_LIBRARY_PATH: /opt/slurm/lib64:\n",
      "2022-09-16 14:07:12.437817: W tensorflow/stream_executor/cuda/cuda_driver.cc:269] failed call to cuInit: UNKNOWN ERROR (303)\n",
      "2022-09-16 14:07:12.437835: I tensorflow/stream_executor/cuda/cuda_diagnostics.cc:156] kernel driver does not appear to be running on this host (gl3118.arc-ts.umich.edu): /proc/driver/nvidia/version does not exist\n",
      "2022-09-16 14:07:12.438413: I tensorflow/core/platform/cpu_feature_guard.cc:193] This TensorFlow binary is optimized with oneAPI Deep Neural Network Library (oneDNN) to use the following CPU instructions in performance-critical operations:  AVX2 AVX512F FMA\n",
      "To enable them in other operations, rebuild TensorFlow with the appropriate compiler flags.\n",
      "/home/ajpineda/.local/lib/python3.9/site-packages/keras/optimizers/optimizer_v2/gradient_descent.py:108: UserWarning: The `lr` argument is deprecated, use `learning_rate` instead.\n",
      "  super(SGD, self).__init__(name, **kwargs)\n"
     ]
    }
   ],
   "source": [
    "###########################################################################\n",
    "########## MODEL CONSTRUCTION #############################################\n",
    "\n",
    "\n",
    "\n",
    "sequence_input = Input(shape=(None, ), dtype='int64')\n",
    "embedded_sequences = embedding_layer(sequence_input)\n",
    "x_text = Conv1D(32, kernel_size = 5, activation=\"relu\", padding = 'same')(embedded_sequences)\n",
    "x_text = MaxPooling1D(5)(x_text)\n",
    "x_text = Conv1D(32, kernel_size = 5, activation=\"relu\", padding = 'same')(x_text)\n",
    "x_text = GlobalMaxPooling1D()(x_text)\n",
    "#x_text = Dense(16, activation=\"relu\")(x_text)\n",
    "#x_text = Dropout(0.5)(x_text)\n",
    "x = Dense(64, activation='relu')(x_text)\n",
    "x = Dense(32, activation='relu')(x)\n",
    "x = Dense(16, activation='relu')(x)\n",
    "x = Dense(8, activation='relu')(x)\n",
    "x = Dense(4, activation='relu')(x)\n",
    "preds = Dense(2, activation='sigmoid')(x_text)\n",
    "\n",
    "\n",
    "model = keras.Model(sequence_input, preds)\n",
    "#model.summary()\n",
    "\n",
    "tbCallBack = TensorBoard(log_dir='./Graph', histogram_freq=0, write_graph=True, write_images=False)\n",
    "\n",
    "\n",
    "print(\"Begin training...\")\n",
    "\n",
    "sgd = optimizers.SGD(lr=0.01, decay=1e-5, momentum=0.95, nesterov=True, clipvalue=.5)\n",
    "\n",
    "model.compile(optimizer=sgd, loss=\"categorical_crossentropy\", metrics = ['categorical_accuracy'])"
   ]
  },
  {
   "cell_type": "code",
   "execution_count": 25,
   "metadata": {},
   "outputs": [
    {
     "name": "stdout",
     "output_type": "stream",
     "text": [
      "Epoch 1/50\n",
      "159/159 [==============================] - 10s 57ms/step - loss: 0.3488 - categorical_accuracy: 0.8542 - val_loss: 0.3187 - val_categorical_accuracy: 0.8460\n",
      "Epoch 2/50\n",
      "159/159 [==============================] - 8s 51ms/step - loss: 0.2641 - categorical_accuracy: 0.8869 - val_loss: 0.2915 - val_categorical_accuracy: 0.8700\n",
      "Epoch 3/50\n",
      "159/159 [==============================] - 8s 53ms/step - loss: 0.2271 - categorical_accuracy: 0.9044 - val_loss: 0.3082 - val_categorical_accuracy: 0.8620\n",
      "Epoch 4/50\n",
      "159/159 [==============================] - 8s 52ms/step - loss: 0.1988 - categorical_accuracy: 0.9187 - val_loss: 0.3244 - val_categorical_accuracy: 0.8660\n",
      "Epoch 5/50\n",
      "159/159 [==============================] - 8s 52ms/step - loss: 0.1722 - categorical_accuracy: 0.9274 - val_loss: 0.3161 - val_categorical_accuracy: 0.8620\n",
      "Epoch 6/50\n",
      "159/159 [==============================] - 8s 51ms/step - loss: 0.1363 - categorical_accuracy: 0.9450 - val_loss: 0.3351 - val_categorical_accuracy: 0.8580\n",
      "Epoch 7/50\n",
      "159/159 [==============================] - 8s 53ms/step - loss: 0.1139 - categorical_accuracy: 0.9550 - val_loss: 0.4293 - val_categorical_accuracy: 0.8440\n",
      "Epoch 8/50\n",
      "159/159 [==============================] - 8s 51ms/step - loss: 0.0905 - categorical_accuracy: 0.9654 - val_loss: 0.4410 - val_categorical_accuracy: 0.8600\n",
      "Epoch 9/50\n",
      "159/159 [==============================] - 9s 55ms/step - loss: 0.0814 - categorical_accuracy: 0.9683 - val_loss: 0.4438 - val_categorical_accuracy: 0.8600\n",
      "Epoch 10/50\n",
      "159/159 [==============================] - 8s 51ms/step - loss: 0.0669 - categorical_accuracy: 0.9740 - val_loss: 0.5951 - val_categorical_accuracy: 0.8540\n",
      "Epoch 11/50\n",
      "159/159 [==============================] - 8s 53ms/step - loss: 0.0598 - categorical_accuracy: 0.9757 - val_loss: 0.5628 - val_categorical_accuracy: 0.8620\n",
      "Epoch 12/50\n",
      "159/159 [==============================] - 8s 51ms/step - loss: 0.0437 - categorical_accuracy: 0.9853 - val_loss: 0.5971 - val_categorical_accuracy: 0.8600\n",
      "Epoch 13/50\n",
      "159/159 [==============================] - 8s 54ms/step - loss: 0.0334 - categorical_accuracy: 0.9896 - val_loss: 0.6464 - val_categorical_accuracy: 0.8620\n",
      "Epoch 14/50\n",
      "159/159 [==============================] - 8s 50ms/step - loss: 0.0261 - categorical_accuracy: 0.9902 - val_loss: 0.7986 - val_categorical_accuracy: 0.8560\n",
      "Epoch 15/50\n",
      "159/159 [==============================] - 9s 54ms/step - loss: 0.0438 - categorical_accuracy: 0.9836 - val_loss: 0.7639 - val_categorical_accuracy: 0.8260\n",
      "Epoch 16/50\n",
      "159/159 [==============================] - 8s 50ms/step - loss: 0.0423 - categorical_accuracy: 0.9833 - val_loss: 0.7977 - val_categorical_accuracy: 0.8460\n",
      "Epoch 17/50\n",
      "159/159 [==============================] - 9s 54ms/step - loss: 0.0502 - categorical_accuracy: 0.9810 - val_loss: 0.6840 - val_categorical_accuracy: 0.8580\n",
      "Epoch 18/50\n",
      "159/159 [==============================] - 8s 51ms/step - loss: 0.0328 - categorical_accuracy: 0.9874 - val_loss: 0.7579 - val_categorical_accuracy: 0.8620\n",
      "Epoch 19/50\n",
      "159/159 [==============================] - 8s 53ms/step - loss: 0.0243 - categorical_accuracy: 0.9918 - val_loss: 0.7509 - val_categorical_accuracy: 0.8420\n",
      "Epoch 20/50\n",
      "159/159 [==============================] - 8s 51ms/step - loss: 0.0131 - categorical_accuracy: 0.9957 - val_loss: 0.7700 - val_categorical_accuracy: 0.8520\n",
      "Epoch 21/50\n",
      "159/159 [==============================] - 9s 54ms/step - loss: 0.0111 - categorical_accuracy: 0.9972 - val_loss: 0.8782 - val_categorical_accuracy: 0.8340\n",
      "Epoch 22/50\n",
      "159/159 [==============================] - 8s 51ms/step - loss: 0.0140 - categorical_accuracy: 0.9950 - val_loss: 0.8698 - val_categorical_accuracy: 0.8580\n",
      "Epoch 23/50\n",
      "159/159 [==============================] - 9s 54ms/step - loss: 0.0103 - categorical_accuracy: 0.9975 - val_loss: 0.8300 - val_categorical_accuracy: 0.8520\n",
      "Epoch 24/50\n",
      "159/159 [==============================] - 8s 50ms/step - loss: 0.0072 - categorical_accuracy: 0.9977 - val_loss: 0.8672 - val_categorical_accuracy: 0.8620\n",
      "Epoch 25/50\n",
      "159/159 [==============================] - 9s 55ms/step - loss: 0.0076 - categorical_accuracy: 0.9977 - val_loss: 0.9297 - val_categorical_accuracy: 0.8500\n",
      "Epoch 26/50\n",
      "159/159 [==============================] - 8s 52ms/step - loss: 0.0089 - categorical_accuracy: 0.9974 - val_loss: 0.8648 - val_categorical_accuracy: 0.8440\n",
      "Epoch 27/50\n",
      "159/159 [==============================] - 9s 54ms/step - loss: 0.0032 - categorical_accuracy: 0.9996 - val_loss: 0.9547 - val_categorical_accuracy: 0.8580\n",
      "Epoch 28/50\n",
      "159/159 [==============================] - 8s 51ms/step - loss: 0.0021 - categorical_accuracy: 0.9996 - val_loss: 0.9351 - val_categorical_accuracy: 0.8600\n",
      "Epoch 29/50\n",
      "159/159 [==============================] - 9s 56ms/step - loss: 0.0019 - categorical_accuracy: 0.9997 - val_loss: 0.9430 - val_categorical_accuracy: 0.8480\n",
      "Epoch 30/50\n",
      "159/159 [==============================] - 8s 51ms/step - loss: 0.0011 - categorical_accuracy: 0.9997 - val_loss: 0.9405 - val_categorical_accuracy: 0.8460\n",
      "Epoch 31/50\n",
      "159/159 [==============================] - 9s 54ms/step - loss: 0.0017 - categorical_accuracy: 0.9994 - val_loss: 0.9716 - val_categorical_accuracy: 0.8520\n",
      "Epoch 32/50\n",
      "159/159 [==============================] - 8s 51ms/step - loss: 0.0017 - categorical_accuracy: 0.9995 - val_loss: 0.9975 - val_categorical_accuracy: 0.8400\n",
      "Epoch 33/50\n",
      "159/159 [==============================] - 8s 53ms/step - loss: 0.0038 - categorical_accuracy: 0.9987 - val_loss: 0.9672 - val_categorical_accuracy: 0.8560\n",
      "Epoch 34/50\n",
      "159/159 [==============================] - 8s 51ms/step - loss: 0.0020 - categorical_accuracy: 0.9996 - val_loss: 0.9588 - val_categorical_accuracy: 0.8580\n",
      "Epoch 35/50\n",
      "159/159 [==============================] - 8s 53ms/step - loss: 0.0017 - categorical_accuracy: 0.9995 - val_loss: 0.9498 - val_categorical_accuracy: 0.8600\n",
      "Epoch 36/50\n",
      "159/159 [==============================] - 8s 52ms/step - loss: 0.0027 - categorical_accuracy: 0.9994 - val_loss: 1.0187 - val_categorical_accuracy: 0.8580\n",
      "Epoch 37/50\n",
      "159/159 [==============================] - 8s 53ms/step - loss: 0.0018 - categorical_accuracy: 0.9996 - val_loss: 1.0059 - val_categorical_accuracy: 0.8480\n",
      "Epoch 38/50\n",
      "159/159 [==============================] - 8s 51ms/step - loss: 0.0023 - categorical_accuracy: 0.9995 - val_loss: 1.0205 - val_categorical_accuracy: 0.8640\n",
      "Epoch 39/50\n",
      "159/159 [==============================] - 8s 53ms/step - loss: 0.0012 - categorical_accuracy: 0.9997 - val_loss: 1.0216 - val_categorical_accuracy: 0.8460\n",
      "Epoch 40/50\n",
      "159/159 [==============================] - 8s 51ms/step - loss: 0.0016 - categorical_accuracy: 0.9995 - val_loss: 1.0013 - val_categorical_accuracy: 0.8500\n",
      "Epoch 41/50\n",
      "159/159 [==============================] - 9s 54ms/step - loss: 0.0011 - categorical_accuracy: 0.9997 - val_loss: 1.0053 - val_categorical_accuracy: 0.8480\n",
      "Epoch 42/50\n",
      "159/159 [==============================] - 8s 53ms/step - loss: 9.5606e-04 - categorical_accuracy: 0.9997 - val_loss: 1.0588 - val_categorical_accuracy: 0.8520\n",
      "Epoch 43/50\n",
      "159/159 [==============================] - 9s 55ms/step - loss: 0.0017 - categorical_accuracy: 0.9996 - val_loss: 1.0181 - val_categorical_accuracy: 0.8540\n",
      "Epoch 44/50\n",
      "159/159 [==============================] - 8s 51ms/step - loss: 0.0015 - categorical_accuracy: 0.9995 - val_loss: 1.0454 - val_categorical_accuracy: 0.8580\n",
      "Epoch 45/50\n",
      "159/159 [==============================] - 8s 53ms/step - loss: 0.0015 - categorical_accuracy: 0.9997 - val_loss: 1.0093 - val_categorical_accuracy: 0.8500\n",
      "Epoch 46/50\n",
      "159/159 [==============================] - 8s 51ms/step - loss: 0.0024 - categorical_accuracy: 0.9996 - val_loss: 1.1803 - val_categorical_accuracy: 0.8580\n",
      "Epoch 47/50\n",
      "159/159 [==============================] - 9s 54ms/step - loss: 0.0029 - categorical_accuracy: 0.9991 - val_loss: 1.0623 - val_categorical_accuracy: 0.8220\n",
      "Epoch 48/50\n",
      "159/159 [==============================] - 8s 51ms/step - loss: 0.0013 - categorical_accuracy: 0.9995 - val_loss: 1.0354 - val_categorical_accuracy: 0.8580\n",
      "Epoch 49/50\n",
      "159/159 [==============================] - 9s 54ms/step - loss: 8.7313e-04 - categorical_accuracy: 0.9997 - val_loss: 1.0399 - val_categorical_accuracy: 0.8520\n",
      "Epoch 50/50\n",
      "159/159 [==============================] - 8s 51ms/step - loss: 8.6803e-04 - categorical_accuracy: 0.9997 - val_loss: 1.0276 - val_categorical_accuracy: 0.8560\n"
     ]
    }
   ],
   "source": [
    "\n",
    "\n",
    "history = model.fit(train_data_text, train_labels_text, batch_size=50, epochs=50, validation_data=(val_data_text, val_labels_text))"
   ]
  },
  {
   "cell_type": "code",
   "execution_count": 3,
   "metadata": {},
   "outputs": [
    {
     "name": "stdout",
     "output_type": "stream",
     "text": [
      "Model: \"model\"\n",
      "_________________________________________________________________\n",
      " Layer (type)                Output Shape              Param #   \n",
      "=================================================================\n",
      " input_1 (InputLayer)        [(None, None)]            0         \n",
      "                                                                 \n",
      " embedding (Embedding)       (None, None, 100)         600100    \n",
      "                                                                 \n",
      " conv1d (Conv1D)             (None, None, 32)          16032     \n",
      "                                                                 \n",
      " max_pooling1d (MaxPooling1D  (None, None, 32)         0         \n",
      " )                                                               \n",
      "                                                                 \n",
      " conv1d_1 (Conv1D)           (None, None, 32)          5152      \n",
      "                                                                 \n",
      " global_max_pooling1d (Globa  (None, 32)               0         \n",
      " lMaxPooling1D)                                                  \n",
      "                                                                 \n",
      " dense_5 (Dense)             (None, 2)                 66        \n",
      "                                                                 \n",
      "=================================================================\n",
      "Total params: 621,350\n",
      "Trainable params: 21,250\n",
      "Non-trainable params: 600,100\n",
      "_________________________________________________________________\n"
     ]
    },
    {
     "name": "stderr",
     "output_type": "stream",
     "text": [
      "2023-01-20 00:40:56.261784: W tensorflow/stream_executor/platform/default/dso_loader.cc:64] Could not load dynamic library 'libcuda.so.1'; dlerror: libcuda.so.1: cannot open shared object file: No such file or directory; LD_LIBRARY_PATH: /opt/slurm/lib64:\n",
      "2023-01-20 00:40:56.261818: W tensorflow/stream_executor/cuda/cuda_driver.cc:269] failed call to cuInit: UNKNOWN ERROR (303)\n",
      "2023-01-20 00:40:56.261831: I tensorflow/stream_executor/cuda/cuda_diagnostics.cc:156] kernel driver does not appear to be running on this host (gl3185.arc-ts.umich.edu): /proc/driver/nvidia/version does not exist\n",
      "2023-01-20 00:40:56.262011: I tensorflow/core/platform/cpu_feature_guard.cc:193] This TensorFlow binary is optimized with oneAPI Deep Neural Network Library (oneDNN) to use the following CPU instructions in performance-critical operations:  AVX2 AVX512F FMA\n",
      "To enable them in other operations, rebuild TensorFlow with the appropriate compiler flags.\n"
     ]
    }
   ],
   "source": [
    "#model.load('elections_text_916.h5')  # c\n",
    "\n",
    "model1 = load_model('elections_text_916.h5')\n",
    "model1.summary()\n"
   ]
  },
  {
   "cell_type": "code",
   "execution_count": 28,
   "metadata": {},
   "outputs": [
    {
     "data": {
      "image/png": "[encoded data removed]",
      "text/plain": [
       "<Figure size 576x576 with 2 Axes>"
      ]
     },
     "metadata": {
      "needs_background": "light"
     },
     "output_type": "display_data"
    }
   ],
   "source": [
    "acc = history.history['categorical_accuracy']\n",
    "val_acc = history.history['val_categorical_accuracy']\n",
    "\n",
    "loss = history.history['loss']\n",
    "val_loss = history.history['val_loss']\n",
    "\n",
    "plt.figure(figsize=(8, 8))\n",
    "plt.subplot(2, 1, 1)\n",
    "plt.plot(acc, label='Training Accuracy')\n",
    "plt.plot(val_acc, label='Validation Accuracy')\n",
    "plt.legend(loc='lower right')\n",
    "plt.ylabel('Accuracy')\n",
    "plt.ylim([min(plt.ylim()),1])\n",
    "plt.title('Training and Validation Accuracy')\n",
    "\n",
    "plt.subplot(2, 1, 2)\n",
    "plt.plot(loss, label='Training Loss')\n",
    "plt.plot(val_loss, label='Validation Loss')\n",
    "plt.legend(loc='upper right')\n",
    "plt.ylabel('Cross Entropy')\n",
    "\n",
    "plt.ylim([0,1.0])\n",
    "plt.title('Training and Validation Loss')\n",
    "plt.xlabel('epoch')\n",
    "\n",
    "#plt.savefig(train_file_name)\n",
    "plt.show()"
   ]
  },
  {
   "cell_type": "code",
   "execution_count": 29,
   "metadata": {
    "scrolled": true
   },
   "outputs": [
    {
     "name": "stdout",
     "output_type": "stream",
     "text": [
      "\n",
      "# Generate predictions\n",
      "16/16 [==============================] - 0s 3ms/step\n",
      "249/249 [==============================] - 2s 7ms/step\n"
     ]
    }
   ],
   "source": [
    "# Generate predictions (probabilities -- the output of the last layer)\n",
    "# on new data using `predict`\n",
    "print('\\n# Generate predictions')\n",
    "test_predictions = model.predict(test_data_text)\n",
    "train_predictions = model.predict(train_data_text)"
   ]
  },
  {
   "cell_type": "code",
   "execution_count": 31,
   "metadata": {},
   "outputs": [
    {
     "data": {
      "text/plain": [
       "array([[1.2036720e-01, 9.4410682e-01],\n",
       "       [9.9995226e-01, 2.1741068e-04],\n",
       "       [7.3813526e-03, 9.9989694e-01],\n",
       "       ...,\n",
       "       [9.9833864e-01, 2.9673623e-03],\n",
       "       [9.9999988e-01, 8.7885198e-08],\n",
       "       [1.2504900e-01, 9.7745210e-01]], dtype=float32)"
      ]
     },
     "execution_count": 31,
     "metadata": {},
     "output_type": "execute_result"
    }
   ],
   "source": [
    "train_predictions"
   ]
  },
  {
   "cell_type": "code",
   "execution_count": 33,
   "metadata": {},
   "outputs": [],
   "source": [
    "test_predictions2 = test_predictions.argmax(axis=1)\n",
    "train_predictions2 = train_predictions.argmax(axis=1)"
   ]
  },
  {
   "cell_type": "code",
   "execution_count": 34,
   "metadata": {},
   "outputs": [],
   "source": [
    "test_labels_text2 = test_labels_text.argmax(axis=1)\n",
    "train_labels_text2 = train_labels_text.argmax(axis=1)\n"
   ]
  },
  {
   "cell_type": "code",
   "execution_count": 38,
   "metadata": {},
   "outputs": [
    {
     "name": "stdout",
     "output_type": "stream",
     "text": [
      "Normalized confusion matrix\n",
      "[[1.         0.        ]\n",
      " [0.00149365 0.99850635]]\n"
     ]
    },
    {
     "data": {
      "image/png": "[encoded data removed]",
      "text/plain": [
       "<Figure size 432x288 with 2 Axes>"
      ]
     },
     "metadata": {
      "needs_background": "light"
     },
     "output_type": "display_data"
    }
   ],
   "source": [
    "import itertools\n",
    "\n",
    "# Grab true labels from the validation generator\n",
    "\n",
    "\n",
    "# Generate confusion matrix\n",
    "\n",
    "# labels = ['W', 'NW']\n",
    "# https://scikit-learn.org/stable/modules/generated/sklearn.metrics.confusion_matrix.html\n",
    "\n",
    "\n",
    "conf_mat1 = confusion_matrix(test_labels_text2, test_predictions2, labels = [0, 1], sample_weight=None)\n",
    "conf_mat2 = confusion_matrix(train_labels_text2, train_predictions2, labels = [0, 1], sample_weight=None)\n",
    "#print(conf_mat)\n",
    "\n",
    "plot_confusion_matrix(conf_mat2, classes=[0, 1],\n",
    "                      title='Confusion matrix, with normalization', normalize = True)"
   ]
  },
  {
   "cell_type": "code",
   "execution_count": null,
   "metadata": {},
   "outputs": [],
   "source": [
    "from scikit-learn.metrics import plot_confusion_matrix\n",
    "plot_confusion_matrix(model, test_data_text, test_labels_text, labels=[\"non_support\", \"support\", \"unaligned\"], sample_weight=None, normalize=None, display_labels=None, include_values=True, xticks_rotation='horizontal', values_format=None, cmap='viridis', ax=None)"
   ]
  },
  {
   "cell_type": "code",
   "execution_count": null,
   "metadata": {},
   "outputs": [],
   "source": [
    "\n",
    "\n",
    "\n",
    "from keras.utils import plot_model\n",
    "import graphviz\n",
    "plot_model(model, to_file='feb_model.png')\n",
    "\n",
    "\n",
    "# serialize model to JSON\n",
    "\n",
    "\"\"\"\n",
    "model_json = model.to_json()\n",
    "with open(\"election_image_model.json\", \"w\") as json_file:\n",
    "    json_file.write(model_json)\n",
    "# serialize weights to HDF5\n",
    "model.save_weights(\"election_image_model.h5\")\n",
    "print(\"Saved model to disk\")\n",
    "\n",
    "\"\"\"\n",
    "\n",
    "\n",
    "\n",
    "\n"
   ]
  },
  {
   "cell_type": "code",
   "execution_count": null,
   "metadata": {},
   "outputs": [],
   "source": [
    "from keras import backend as K\n",
    "K.clear_session()"
   ]
  }
 ],
 "metadata": {
  "kernelspec": {
   "display_name": "Python 3 (ipykernel)",
   "language": "python",
   "name": "python3"
  },
  "language_info": {
   "codemirror_mode": {
    "name": "ipython",
    "version": 3
   },
   "file_extension": ".py",
   "mimetype": "text/x-python",
   "name": "python",
   "nbconvert_exporter": "python",
   "pygments_lexer": "ipython3",
   "version": "3.9.7"
  }
 },
 "nbformat": 4,
 "nbformat_minor": 2
}
